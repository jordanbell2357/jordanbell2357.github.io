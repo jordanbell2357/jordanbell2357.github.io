{
 "cells": [
  {
   "cell_type": "code",
   "execution_count": 1,
   "metadata": {},
   "outputs": [
    {
     "name": "stderr",
     "output_type": "stream",
     "text": [
      "Matplotlib is building the font cache; this may take a moment.\n"
     ]
    }
   ],
   "source": [
    "import matplotlib.pyplot as plt"
   ]
  },
  {
   "cell_type": "code",
   "execution_count": 2,
   "metadata": {},
   "outputs": [],
   "source": [
    "# It is much better to make this an importable module\n",
    "# so that you can simple call import my_kde, \n",
    "# but for this example %run is just as good.\n",
    "%run kde.py"
   ]
  },
  {
   "cell_type": "code",
   "execution_count": 3,
   "metadata": {},
   "outputs": [
    {
     "data": {
      "text/plain": [
       "(array([ 1.,  0.,  0.,  0.,  0.,  0.,  0.,  0.,  0.,  0.,  1.,  1.,  1.,\n",
       "         1.,  0.,  2.,  0.,  1.,  2.,  2.,  2.,  0.,  5.,  4.,  3.,  6.,\n",
       "         4.,  4.,  3.,  7.,  5.,  4.,  4.,  5., 10.,  5.,  5., 11.,  6.,\n",
       "        12., 10.,  9., 14., 16., 11., 12., 13., 13., 22., 19., 13., 14.,\n",
       "        20., 24., 19., 18., 16., 19., 20., 20., 25., 25., 15., 25., 25.,\n",
       "        18., 23., 16., 19., 17., 29., 24., 20., 16., 20., 21., 20., 16.,\n",
       "        17., 13., 18., 12., 13., 18., 13., 16., 14.,  6., 10.,  8.,  6.,\n",
       "         6.,  3.,  3.,  5.,  2.,  1.,  1.,  1.,  1.]),\n",
       " array([0.07390186, 0.08299145, 0.09208104, 0.10117063, 0.11026021,\n",
       "        0.1193498 , 0.12843939, 0.13752898, 0.14661857, 0.15570816,\n",
       "        0.16479775, 0.17388734, 0.18297692, 0.19206651, 0.2011561 ,\n",
       "        0.21024569, 0.21933528, 0.22842487, 0.23751446, 0.24660404,\n",
       "        0.25569363, 0.26478322, 0.27387281, 0.2829624 , 0.29205199,\n",
       "        0.30114158, 0.31023117, 0.31932075, 0.32841034, 0.33749993,\n",
       "        0.34658952, 0.35567911, 0.3647687 , 0.37385829, 0.38294787,\n",
       "        0.39203746, 0.40112705, 0.41021664, 0.41930623, 0.42839582,\n",
       "        0.43748541, 0.446575  , 0.45566458, 0.46475417, 0.47384376,\n",
       "        0.48293335, 0.49202294, 0.50111253, 0.51020212, 0.5192917 ,\n",
       "        0.52838129, 0.53747088, 0.54656047, 0.55565006, 0.56473965,\n",
       "        0.57382924, 0.58291883, 0.59200841, 0.601098  , 0.61018759,\n",
       "        0.61927718, 0.62836677, 0.63745636, 0.64654595, 0.65563553,\n",
       "        0.66472512, 0.67381471, 0.6829043 , 0.69199389, 0.70108348,\n",
       "        0.71017307, 0.71926266, 0.72835224, 0.73744183, 0.74653142,\n",
       "        0.75562101, 0.7647106 , 0.77380019, 0.78288978, 0.79197937,\n",
       "        0.80106895, 0.81015854, 0.81924813, 0.82833772, 0.83742731,\n",
       "        0.8465169 , 0.85560649, 0.86469607, 0.87378566, 0.88287525,\n",
       "        0.89196484, 0.90105443, 0.91014402, 0.91923361, 0.9283232 ,\n",
       "        0.93741278, 0.94650237, 0.95559196, 0.96468155, 0.97377114,\n",
       "        0.98286073]),\n",
       " <BarContainer object of 100 artists>)"
      ]
     },
     "execution_count": 3,
     "metadata": {},
     "output_type": "execute_result"
    },
    {
     "data": {
      "image/png": "[encoded data removed]",
      "text/plain": [
       "<Figure size 432x288 with 1 Axes>"
      ]
     },
     "metadata": {
      "needs_background": "light"
     },
     "output_type": "display_data"
    }
   ],
   "source": [
    "sample_values = np.random.beta(5, 3, size = 1000)\n",
    "plt.hist(sample_values, bins = 100)\n"
   ]
  },
  {
   "cell_type": "code",
   "execution_count": 4,
   "metadata": {},
   "outputs": [
    {
     "name": "stdout",
     "output_type": "stream",
     "text": [
      "The KDE's bandwidth  0.03964725549745112\n"
     ]
    }
   ],
   "source": [
    "kde = KernelDensityEstimator()\n",
    "\n",
    "kde.set_samples(sample_values)\n",
    "\n",
    "print(\"The KDE's bandwidth \", kde.bandwidth)"
   ]
  },
  {
   "cell_type": "code",
   "execution_count": 5,
   "metadata": {},
   "outputs": [
    {
     "data": {
      "text/plain": [
       "([<matplotlib.axis.XTick at 0x7f13adf5d970>,\n",
       "  <matplotlib.axis.XTick at 0x7f13adf5d940>,\n",
       "  <matplotlib.axis.XTick at 0x7f13adf5af10>,\n",
       "  <matplotlib.axis.XTick at 0x7f13adf12520>,\n",
       "  <matplotlib.axis.XTick at 0x7f13adf12c70>,\n",
       "  <matplotlib.axis.XTick at 0x7f13adf17400>],\n",
       " [Text(0, 0, '0.0'),\n",
       "  Text(1000, 0, '0.2'),\n",
       "  Text(2000, 0, '0.4'),\n",
       "  Text(3000, 0, '0.6'),\n",
       "  Text(4000, 0, '0.8'),\n",
       "  Text(5000, 0, '1.0')])"
      ]
     },
     "execution_count": 5,
     "metadata": {},
     "output_type": "execute_result"
    },
    {
     "data": {
      "image/png": "[encoded data removed]",
      "text/plain": [
       "<Figure size 432x288 with 1 Axes>"
      ]
     },
     "metadata": {
      "needs_background": "light"
     },
     "output_type": "display_data"
    }
   ],
   "source": [
    "sz = 5000\n",
    "\n",
    "x = np.linspace(0,1, num = sz)\n",
    "tx = [t*sz//5 for t in range(6)]\n",
    "lb = [t/sz for t in tx]\n",
    "\n",
    "like = kde.likelihood(x)\n",
    "plt.plot(like)\n",
    "plt.xticks(tx,lb)"
   ]
  },
  {
   "cell_type": "code",
   "execution_count": 6,
   "metadata": {},
   "outputs": [
    {
     "data": {
      "text/plain": [
       "0.8411045170455023"
      ]
     },
     "execution_count": 6,
     "metadata": {},
     "output_type": "execute_result"
    }
   ],
   "source": [
    "# f(x) = cos(x)\n",
    "f = dict(zip(x/sz,np.cos(x)))\n",
    "\n",
    "\n",
    "kde.integrate(f)"
   ]
  },
  {
   "cell_type": "code",
   "execution_count": 7,
   "metadata": {},
   "outputs": [
    {
     "name": "stdout",
     "output_type": "stream",
     "text": [
      " Mean:  0.17866310895562287 Integration:  0.8414012293262169\n",
      " Mean:  0.32225186577349973 Integration:  0.841383199515944\n",
      " Mean:  0.527356801015584 Integration:  0.8412526594438654\n",
      " Mean:  0.6250407673117603 Integration:  0.8411473640365057\n",
      " Mean:  0.8644605125815156 Integration:  0.8398113811596417\n"
     ]
    }
   ],
   "source": [
    "# It is important to remember that you can use these objects\n",
    "#the way you would any other python objects, \n",
    "#like putting them in lists or dicts or whatever\n",
    "\n",
    "models = {}\n",
    "for i in range(5):\n",
    "    samples = np.random.beta(i+1, 5 - i, size = 50)\n",
    "    kde = KernelDensityEstimator(sample_points = samples)\n",
    "    models[np.mean(samples)] = kde\n",
    "    \n",
    "    \n",
    "for model in models:\n",
    "    print(\" Mean: \", model, \"Integration: \", models[model].integrate(f))\n",
    "    "
   ]
  },
  {
   "cell_type": "code",
   "execution_count": null,
   "metadata": {},
   "outputs": [],
   "source": []
  }
 ],
 "metadata": {
  "kernelspec": {
   "display_name": "Python 3 (ipykernel)",
   "language": "python",
   "name": "python3"
  },
  "language_info": {
   "codemirror_mode": {
    "name": "ipython",
    "version": 3
   },
   "file_extension": ".py",
   "mimetype": "text/x-python",
   "name": "python",
   "nbconvert_exporter": "python",
   "pygments_lexer": "ipython3",
   "version": "3.8.11"
  }
 },
 "nbformat": 4,
 "nbformat_minor": 4
}
