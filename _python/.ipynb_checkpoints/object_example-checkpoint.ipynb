{
 "cells": [
  {
   "cell_type": "code",
   "execution_count": 1,
   "metadata": {},
   "outputs": [],
   "source": [
    "import matplotlib.pyplot as plt"
   ]
  },
  {
   "cell_type": "code",
   "execution_count": 2,
   "metadata": {},
   "outputs": [],
   "source": [
    "# It is much better to make this an importable module\n",
    "# so that you can simple call import my_kde, \n",
    "# but for this example %run is just as good.\n",
    "%run kde.py"
   ]
  },
  {
   "cell_type": "code",
   "execution_count": 3,
   "metadata": {},
   "outputs": [
    {
     "data": {
      "text/plain": [
       "(array([ 3.,  1.,  0.,  1.,  1.,  0.,  1.,  3.,  0.,  1.,  2.,  3.,  0.,\n",
       "         1.,  5.,  3.,  2.,  4.,  3.,  5.,  2.,  1.,  6.,  6.,  4.,  9.,\n",
       "         9.,  8.,  7.,  5., 11.,  8., 12., 14.,  7., 13., 18.,  8., 13.,\n",
       "         9., 14., 11., 16., 16., 19., 10., 20., 22.,  7., 13., 15.,  8.,\n",
       "        17., 18., 16., 15., 14., 19., 26., 21., 16., 19., 36., 18., 16.,\n",
       "        19., 23., 22., 17., 21., 24., 18., 14., 14., 11., 17., 10., 14.,\n",
       "        13., 11., 12., 10., 15., 12., 11.,  1., 14.,  7., 10.,  7.,  1.,\n",
       "         6.,  2.,  4.,  2.,  2.,  1.,  0.,  1.,  3.]),\n",
       " array([0.17144573, 0.17953953, 0.18763332, 0.19572711, 0.20382091,\n",
       "        0.2119147 , 0.2200085 , 0.22810229, 0.23619608, 0.24428988,\n",
       "        0.25238367, 0.26047746, 0.26857126, 0.27666505, 0.28475884,\n",
       "        0.29285264, 0.30094643, 0.30904022, 0.31713402, 0.32522781,\n",
       "        0.3333216 , 0.3414154 , 0.34950919, 0.35760299, 0.36569678,\n",
       "        0.37379057, 0.38188437, 0.38997816, 0.39807195, 0.40616575,\n",
       "        0.41425954, 0.42235333, 0.43044713, 0.43854092, 0.44663471,\n",
       "        0.45472851, 0.4628223 , 0.47091609, 0.47900989, 0.48710368,\n",
       "        0.49519747, 0.50329127, 0.51138506, 0.51947886, 0.52757265,\n",
       "        0.53566644, 0.54376024, 0.55185403, 0.55994782, 0.56804162,\n",
       "        0.57613541, 0.5842292 , 0.592323  , 0.60041679, 0.60851058,\n",
       "        0.61660438, 0.62469817, 0.63279196, 0.64088576, 0.64897955,\n",
       "        0.65707335, 0.66516714, 0.67326093, 0.68135473, 0.68944852,\n",
       "        0.69754231, 0.70563611, 0.7137299 , 0.72182369, 0.72991749,\n",
       "        0.73801128, 0.74610507, 0.75419887, 0.76229266, 0.77038645,\n",
       "        0.77848025, 0.78657404, 0.79466784, 0.80276163, 0.81085542,\n",
       "        0.81894922, 0.82704301, 0.8351368 , 0.8432306 , 0.85132439,\n",
       "        0.85941818, 0.86751198, 0.87560577, 0.88369956, 0.89179336,\n",
       "        0.89988715, 0.90798094, 0.91607474, 0.92416853, 0.93226233,\n",
       "        0.94035612, 0.94844991, 0.95654371, 0.9646375 , 0.97273129,\n",
       "        0.98082509]),\n",
       " <a list of 100 Patch objects>)"
      ]
     },
     "execution_count": 3,
     "metadata": {},
     "output_type": "execute_result"
    },
    {
     "data": {
      "image/png": "[encoded data removed]",
      "text/plain": [
       "<Figure size 432x288 with 1 Axes>"
      ]
     },
     "metadata": {
      "needs_background": "light"
     },
     "output_type": "display_data"
    }
   ],
   "source": [
    "sample_values = np.random.beta(5, 3, size = 1000)\n",
    "plt.hist(sample_values, bins = 100)\n"
   ]
  },
  {
   "cell_type": "code",
   "execution_count": 4,
   "metadata": {},
   "outputs": [
    {
     "name": "stdout",
     "output_type": "stream",
     "text": [
      "The KDE's bandwidth  0.03961653561696439\n"
     ]
    }
   ],
   "source": [
    "kde = KernelDensityEstimator()\n",
    "\n",
    "kde.set_samples(sample_values)\n",
    "\n",
    "print(\"The KDE's bandwidth \", kde.bandwidth)"
   ]
  },
  {
   "cell_type": "code",
   "execution_count": 5,
   "metadata": {},
   "outputs": [
    {
     "data": {
      "text/plain": [
       "([<matplotlib.axis.XTick at 0x29649f6d630>,\n",
       "  <matplotlib.axis.XTick at 0x29647cee4a8>,\n",
       "  <matplotlib.axis.XTick at 0x29649e1ab00>,\n",
       "  <matplotlib.axis.XTick at 0x29649faeb00>,\n",
       "  <matplotlib.axis.XTick at 0x29649faed30>,\n",
       "  <matplotlib.axis.XTick at 0x29649fb7550>],\n",
       " <a list of 6 Text xticklabel objects>)"
      ]
     },
     "execution_count": 5,
     "metadata": {},
     "output_type": "execute_result"
    },
    {
     "data": {
      "image/png": "[encoded data removed]",
      "text/plain": [
       "<Figure size 432x288 with 1 Axes>"
      ]
     },
     "metadata": {
      "needs_background": "light"
     },
     "output_type": "display_data"
    }
   ],
   "source": [
    "sz = 5000\n",
    "\n",
    "x = np.linspace(0,1, num = sz)\n",
    "tx = [t*sz//5 for t in range(6)]\n",
    "lb = [t/sz for t in tx]\n",
    "\n",
    "like = kde.likelihood(x)\n",
    "plt.plot(like)\n",
    "plt.xticks(tx,lb)"
   ]
  },
  {
   "cell_type": "code",
   "execution_count": 6,
   "metadata": {},
   "outputs": [
    {
     "data": {
      "text/plain": [
       "0.8405987366903787"
      ]
     },
     "execution_count": 6,
     "metadata": {},
     "output_type": "execute_result"
    }
   ],
   "source": [
    "# f(x) = cos(x)\n",
    "f = dict(zip(x/sz,np.cos(x)))\n",
    "\n",
    "\n",
    "kde.integrate(f)"
   ]
  },
  {
   "cell_type": "code",
   "execution_count": 8,
   "metadata": {},
   "outputs": [
    {
     "name": "stdout",
     "output_type": "stream",
     "text": [
      " Mean:  0.17338107736871386 Integration:  0.8413784250181444\n",
      " Mean:  0.3801482078545056 Integration:  0.8413916341807424\n",
      " Mean:  0.5238612963831027 Integration:  0.8413935844415621\n",
      " Mean:  0.6841445177229346 Integration:  0.8410667230691247\n",
      " Mean:  0.8213841073320488 Integration:  0.8407346487437385\n"
     ]
    }
   ],
   "source": [
    "# It is important to remember that you can use these objects\n",
    "#the way you would any other python objects, \n",
    "#like putting them in lists or dicts or whatever\n",
    "\n",
    "models = {}\n",
    "for i in range(5):\n",
    "    samples = np.random.beta(i+1, 5 - i, size = 50)\n",
    "    kde = KernelDensityEstimator(sample_points = samples)\n",
    "    models[np.mean(samples)] = kde\n",
    "    \n",
    "    \n",
    "for model in models:\n",
    "    print(\" Mean: \", model, \"Integration: \", models[model].integrate(f))\n",
    "    "
   ]
  },
  {
   "cell_type": "code",
   "execution_count": null,
   "metadata": {},
   "outputs": [],
   "source": []
  }
 ],
 "metadata": {
  "kernelspec": {
   "display_name": "Python 3",
   "language": "python",
   "name": "python3"
  },
  "language_info": {
   "codemirror_mode": {
    "name": "ipython",
    "version": 3
   },
   "file_extension": ".py",
   "mimetype": "text/x-python",
   "name": "python",
   "nbconvert_exporter": "python",
   "pygments_lexer": "ipython3",
   "version": "3.7.3"
  }
 },
 "nbformat": 4,
 "nbformat_minor": 2
}
