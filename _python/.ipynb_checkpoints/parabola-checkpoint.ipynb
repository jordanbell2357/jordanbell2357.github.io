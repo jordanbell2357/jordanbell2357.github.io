{
 "cells": [
  {
   "cell_type": "code",
   "execution_count": 1,
   "id": "516a2d5f-db8d-41fb-a55d-d2ce2d02dc8c",
   "metadata": {},
   "outputs": [],
   "source": [
    "import numpy as np\n",
    "from numpy.polynomial import Polynomial\n",
    "import matplotlib.pyplot as plt\n",
    "import matplotlib.animation as animation\n",
    "from matplotlib import rcParams\n",
    "\n",
    "# make sure the full paths for ImageMagick and ffmpeg are configured\n",
    "rcParams['animation.convert_path'] = '/usr/bin/convert'\n",
    "rcParams['animation.ffmpeg_path'] = '/home/jordan/anaconda3/bin/ffmpeg'\n",
    "\n",
    "fig, ax = plt.subplots()\n",
    "\n",
    "p = Polynomial([1, 1, 1])\n",
    "\n",
    "a = -3\n",
    "b = 6\n",
    "d = b-a\n",
    "N = 50\n",
    "\n",
    "for n in range N:\n",
    "    t[n] = np.arange(a+(n/N)*d, a+((n+1)/N)*d)\n",
    "\n",
    "for n in range N:\n",
    "    q = p(t[n])\n",
    "    plt.plot(t[n],q)\n",
    "    animation.FuncAnimation(fig, animate, frames=np.arange(-5, 5, 1), \\\n",
    "                                      interval=10, blit=True, repeat=False)\n",
    "    \n",
    "q = p(t)\n",
    "l = plt.plot(t, q)\n",
    "\n",
    "ax = plt.axis([-5,5,-1,10])\n",
    "\n",
    "redDot, = plt.plot([-3], [p(-3)], 'ro')\n",
    "\n",
    "def animate(i):\n",
    "    redDot.set_data(i, p(i))\n",
    "    return redDot,\n",
    "\n",
    "# create animation using the animate() function with no repeat\n",
    "myAnimation = animation.FuncAnimation(fig, animate, frames=np.arange(-5, 5, 1), \\\n",
    "                                      interval=10, blit=True, repeat=False)\n",
    "\n",
    "# save animation at 30 frames per second \n",
    "myAnimation.save('myAnimation.gif', writer='imagemagick', fps=5)"
   ]
  }
 ],
 "metadata": {
  "kernelspec": {
   "display_name": "Python 3",
   "language": "python",
   "name": "python3"
  },
  "language_info": {
   "codemirror_mode": {
    "name": "ipython",
    "version": 3
   },
   "file_extension": ".py",
   "mimetype": "text/x-python",
   "name": "python",
   "nbconvert_exporter": "python",
   "pygments_lexer": "ipython3",
   "version": "3.8.11"
  }
 },
 "nbformat": 4,
 "nbformat_minor": 5
}
