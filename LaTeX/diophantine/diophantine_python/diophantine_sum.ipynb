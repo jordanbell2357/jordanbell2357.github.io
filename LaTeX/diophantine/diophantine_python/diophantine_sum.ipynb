{
 "cells": [
  {
   "cell_type": "code",
   "execution_count": null,
   "id": "ae50407e-446a-432a-acee-c4bf43e4af8b",
   "metadata": {},
   "outputs": [],
   "source": [
    "import math\n",
    "import matplotlib.pyplot as plt\n",
    "\n",
    "def int_dist(x):\n",
    "    return abs(x - round(x))\n",
    "\n",
    "def f(m, x):\n",
    "    return 1/(m*math.log(m)) * sum([1 / int_dist(j*x) for j in range(1,m+1)])"
   ]
  },
  {
   "cell_type": "code",
   "execution_count": null,
   "id": "1cf7dfdd-f5bc-446e-818c-a4f0f709ffa3",
   "metadata": {},
   "outputs": [],
   "source": [
    "X = range(5000,40000+1)"
   ]
  },
  {
   "cell_type": "code",
   "execution_count": null,
   "id": "06a4bf7d-783d-494b-8911-c84def8e15dd",
   "metadata": {},
   "outputs": [],
   "source": [
    "Y = [f(m, math.sqrt(10)) for m in X]"
   ]
  },
  {
   "cell_type": "code",
   "execution_count": null,
   "id": "12077c5a-6173-4a66-89e3-e0eee668e698",
   "metadata": {},
   "outputs": [],
   "source": [
    "plt.rcParams['text.usetex'] = True\n",
    "plt.plot(X, Y)\n",
    "plt.xlabel(r'$m$')\n",
    "plt.title(r'$m \\mapsto \\frac{1}{m \\log m}\\displaystyle \\sum_{j=1}^m \\frac{1}{\\vert \\vert jx \\vert \\vert}$ for $x=\\sqrt{10}$')\n",
    "plt.savefig('m5000_40000_sqrt_10.png', dpi=300)"
   ]
  },
  {
   "cell_type": "code",
   "execution_count": null,
   "id": "e055ad7c-04f8-4fc6-87ee-e479c591d681",
   "metadata": {},
   "outputs": [],
   "source": []
  }
 ],
 "metadata": {
  "kernelspec": {
   "display_name": "Python 3 (ipykernel)",
   "language": "python",
   "name": "python3"
  },
  "language_info": {
   "codemirror_mode": {
    "name": "ipython",
    "version": 3
   },
   "file_extension": ".py",
   "mimetype": "text/x-python",
   "name": "python",
   "nbconvert_exporter": "python",
   "pygments_lexer": "ipython3",
   "version": "3.9.15"
  }
 },
 "nbformat": 4,
 "nbformat_minor": 5
}
