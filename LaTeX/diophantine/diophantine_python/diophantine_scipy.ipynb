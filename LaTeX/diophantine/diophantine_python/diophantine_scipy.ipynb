{
 "cells": [
  {
   "cell_type": "code",
   "execution_count": 47,
   "id": "49f7636e-cb02-4165-9e69-1b51353b7ea1",
   "metadata": {},
   "outputs": [],
   "source": [
    "from scipy.integrate import quad\n",
    "import numpy as np\n",
    "import math\n",
    "from scipy import integrate"
   ]
  },
  {
   "cell_type": "code",
   "execution_count": 17,
   "id": "6aa5438c-5777-4957-87b6-abbe247bd015",
   "metadata": {},
   "outputs": [],
   "source": [
    "def P(x,n):\n",
    "    return np.prod(2*np.abs(np.sin([k*x for k in range(1,n+1)])))"
   ]
  },
  {
   "cell_type": "code",
   "execution_count": 21,
   "id": "69feb643-9216-44d2-a94f-d2383ea03290",
   "metadata": {},
   "outputs": [
    {
     "data": {
      "text/plain": [
       "163.46254899056558"
      ]
     },
     "execution_count": 21,
     "metadata": {},
     "output_type": "execute_result"
    }
   ],
   "source": [
    "P(3,40000000)"
   ]
  },
  {
   "cell_type": "code",
   "execution_count": 36,
   "id": "f1056f3b-34fe-43a0-b893-3a5f71cf6c01",
   "metadata": {},
   "outputs": [
    {
     "data": {
      "text/plain": [
       "1"
      ]
     },
     "execution_count": 36,
     "metadata": {},
     "output_type": "execute_result"
    }
   ],
   "source": [
    "(lambda x: 1)(3)"
   ]
  },
  {
   "cell_type": "code",
   "execution_count": 48,
   "id": "d3341f15-025a-4e60-9eb3-cd18d75e9c4e",
   "metadata": {},
   "outputs": [],
   "source": [
    "def L1(integrand):\n",
    "    return integrate(integrand, 0, 2*math.pi, args=(n))"
   ]
  },
  {
   "cell_type": "code",
   "execution_count": 49,
   "id": "15b89adf-b09e-42d2-8e95-3ce2c371949a",
   "metadata": {},
   "outputs": [
    {
     "ename": "TypeError",
     "evalue": "'module' object is not callable",
     "output_type": "error",
     "traceback": [
      "\u001b[1;31m---------------------------------------------------------------------------\u001b[0m",
      "\u001b[1;31mTypeError\u001b[0m                                 Traceback (most recent call last)",
      "Cell \u001b[1;32mIn[49], line 1\u001b[0m\n\u001b[1;32m----> 1\u001b[0m \u001b[43mL1\u001b[49m\u001b[43m(\u001b[49m\u001b[43mP\u001b[49m\u001b[43m)\u001b[49m\n",
      "Cell \u001b[1;32mIn[48], line 2\u001b[0m, in \u001b[0;36mL1\u001b[1;34m(integrand)\u001b[0m\n\u001b[0;32m      1\u001b[0m \u001b[38;5;28;01mdef\u001b[39;00m \u001b[38;5;21mL1\u001b[39m(integrand):\n\u001b[1;32m----> 2\u001b[0m     \u001b[38;5;28;01mreturn\u001b[39;00m \u001b[43mintegrate\u001b[49m\u001b[43m(\u001b[49m\u001b[43mintegrand\u001b[49m\u001b[43m,\u001b[49m\u001b[43m \u001b[49m\u001b[38;5;241;43m0\u001b[39;49m\u001b[43m,\u001b[49m\u001b[43m \u001b[49m\u001b[38;5;241;43m2\u001b[39;49m\u001b[38;5;241;43m*\u001b[39;49m\u001b[43mmath\u001b[49m\u001b[38;5;241;43m.\u001b[39;49m\u001b[43mpi\u001b[49m\u001b[43m,\u001b[49m\u001b[43m \u001b[49m\u001b[43margs\u001b[49m\u001b[38;5;241;43m=\u001b[39;49m\u001b[43m(\u001b[49m\u001b[43mn\u001b[49m\u001b[43m)\u001b[49m\u001b[43m)\u001b[49m\n",
      "\u001b[1;31mTypeError\u001b[0m: 'module' object is not callable"
     ]
    }
   ],
   "source": [
    "L1(P)"
   ]
  },
  {
   "cell_type": "code",
   "execution_count": 40,
   "id": "af139e62-ae8b-4721-a512-cc90522a0eff",
   "metadata": {},
   "outputs": [],
   "source": [
    "n=10"
   ]
  },
  {
   "cell_type": "code",
   "execution_count": 41,
   "id": "af9722d1-27b7-40bd-b1dc-eb236a87a5a0",
   "metadata": {},
   "outputs": [
    {
     "name": "stderr",
     "output_type": "stream",
     "text": [
      "C:\\Users\\jorda\\AppData\\Local\\Temp\\ipykernel_1432\\1387681523.py:2: IntegrationWarning: The maximum number of subdivisions (50) has been achieved.\n",
      "  If increasing the limit yields no improvement it is advised to analyze \n",
      "  the integrand in order to determine the difficulties.  If the position of a \n",
      "  local difficulty can be determined (singularity, discontinuity) one will \n",
      "  probably gain from splitting up the interval and calling the integrator \n",
      "  on the subranges.  Perhaps a special-purpose integrator should be used.\n",
      "  return quad(integrand, 0, 2*math.pi, args=(n))\n"
     ]
    },
    {
     "data": {
      "text/plain": [
       "(31.99565586595694, 1.7118493671664972)"
      ]
     },
     "execution_count": 41,
     "metadata": {},
     "output_type": "execute_result"
    }
   ],
   "source": [
    "L1(P)"
   ]
  },
  {
   "cell_type": "code",
   "execution_count": null,
   "id": "0bfb1477-7789-4b41-abc9-29d1322cec33",
   "metadata": {},
   "outputs": [],
   "source": []
  }
 ],
 "metadata": {
  "kernelspec": {
   "display_name": "Python 3 (ipykernel)",
   "language": "python",
   "name": "python3"
  },
  "language_info": {
   "codemirror_mode": {
    "name": "ipython",
    "version": 3
   },
   "file_extension": ".py",
   "mimetype": "text/x-python",
   "name": "python",
   "nbconvert_exporter": "python",
   "pygments_lexer": "ipython3",
   "version": "3.9.15"
  }
 },
 "nbformat": 4,
 "nbformat_minor": 5
}
