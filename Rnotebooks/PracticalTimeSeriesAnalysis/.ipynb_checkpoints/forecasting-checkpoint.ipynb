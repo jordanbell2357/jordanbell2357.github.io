{
 "cells": [
  {
   "cell_type": "code",
   "execution_count": 2,
   "id": "5d022391-eaaf-450c-bc0e-68ade78de5f1",
   "metadata": {},
   "outputs": [],
   "source": [
    "library(tidyverse)"
   ]
  },
  {
   "cell_type": "code",
   "execution_count": 3,
   "id": "4ed73d9f-c6c6-4c62-836d-ebff51a65d9a",
   "metadata": {},
   "outputs": [],
   "source": [
    "library(tsdl)"
   ]
  },
  {
   "cell_type": "code",
   "execution_count": 5,
   "id": "53fcd376-44cc-4206-9483-62575b0bae5d",
   "metadata": {},
   "outputs": [],
   "source": [
    "library(fable)"
   ]
  },
  {
   "cell_type": "code",
   "execution_count": 6,
   "id": "d2c5092f-c849-489b-bbef-9266425f7b61",
   "metadata": {},
   "outputs": [
    {
     "data": {
      "text/plain": [
       "Holt-Winters exponential smoothing without trend and without seasonal component.\n",
       "\n",
       "Call:\n",
       "HoltWinters(x = log10(AirPassengers), beta = FALSE, gamma = FALSE)\n",
       "\n",
       "Smoothing parameters:\n",
       " alpha: 0.9999339\n",
       " beta : FALSE\n",
       " gamma: FALSE\n",
       "\n",
       "Coefficients:\n",
       "      [,1]\n",
       "a 2.635481"
      ]
     },
     "metadata": {},
     "output_type": "display_data"
    }
   ],
   "source": [
    "HoltWinters(x = log10(AirPassengers), beta = FALSE, gamma = FALSE)"
   ]
  },
  {
   "cell_type": "code",
   "execution_count": null,
   "id": "196d2220-cefb-4a08-9f68-f2772a759cae",
   "metadata": {},
   "outputs": [],
   "source": []
  }
 ],
 "metadata": {
  "kernelspec": {
   "display_name": "R",
   "language": "R",
   "name": "ir"
  },
  "language_info": {
   "codemirror_mode": "r",
   "file_extension": ".r",
   "mimetype": "text/x-r-source",
   "name": "R",
   "pygments_lexer": "r",
   "version": "4.1.1"
  }
 },
 "nbformat": 4,
 "nbformat_minor": 5
}
