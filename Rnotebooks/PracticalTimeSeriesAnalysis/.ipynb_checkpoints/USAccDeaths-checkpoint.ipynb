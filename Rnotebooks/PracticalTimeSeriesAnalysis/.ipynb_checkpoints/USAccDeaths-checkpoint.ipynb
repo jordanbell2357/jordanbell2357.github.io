{
 "cells": [
  {
   "cell_type": "code",
   "execution_count": 2,
   "id": "6d1cc96d-07e9-48c1-877e-c979e187a33d",
   "metadata": {},
   "outputs": [],
   "source": [
    "library(dplyr)"
   ]
  },
  {
   "cell_type": "code",
   "execution_count": 4,
   "id": "f0fcfb8d-e34d-4e67-b609-7014a74c5cd7",
   "metadata": {},
   "outputs": [],
   "source": [
    "library(fable)"
   ]
  },
  {
   "cell_type": "code",
   "execution_count": 6,
   "id": "221355e7-6b25-4aed-818c-79c25ccbb98c",
   "metadata": {},
   "outputs": [
    {
     "name": "stdout",
     "output_type": "stream",
     "text": [
      "Series: value \n",
      "Model: ARIMA(0,1,1)(0,1,1)[12] \n",
      "Transformation: log(value) \n",
      "\n",
      "Coefficients:\n",
      "          ma1     sma1\n",
      "      -0.4713  -0.5926\n",
      "s.e.   0.1230   0.1933\n",
      "\n",
      "sigma^2 estimated as 0.001379:  log likelihood=109.31\n",
      "AIC=-212.63   AICc=-212.19   BIC=-206.39\n"
     ]
    },
    {
     "name": "stderr",
     "output_type": "stream",
     "text": [
      "Warning message in sqrt(diag(best$var.coef)):\n",
      "“NaNs produced”\n"
     ]
    },
    {
     "data": {
      "text/html": [
       "<table class=\"dataframe\">\n",
       "<caption>A mdl_df: 1 × 2</caption>\n",
       "<thead>\n",
       "\t<tr><th scope=col>Country</th><th scope=col>ARIMA(log(GDP) ~ Population)</th></tr>\n",
       "\t<tr><th scope=col>&lt;fct&gt;</th><th scope=col>&lt;model&gt;</th></tr>\n",
       "</thead>\n",
       "<tbody>\n",
       "\t<tr><td>Australia</td><td>&lt;LM w/ ARIMA(2,0,0) errors&gt;</td></tr>\n",
       "</tbody>\n",
       "</table>\n"
      ],
      "text/latex": [
       "A mdl\\_df: 1 × 2\n",
       "\\begin{tabular}{ll}\n",
       " Country & ARIMA(log(GDP) \\textasciitilde{} Population)\\\\\n",
       " <fct> & <model>\\\\\n",
       "\\hline\n",
       "\t Australia & <LM w/ ARIMA(2,0,0) errors>\\\\\n",
       "\\end{tabular}\n"
      ],
      "text/markdown": [
       "\n",
       "A mdl_df: 1 × 2\n",
       "\n",
       "| Country &lt;fct&gt; | ARIMA(log(GDP) ~ Population) &lt;model&gt; |\n",
       "|---|---|\n",
       "| Australia | &lt;LM w/ ARIMA(2,0,0) errors&gt; |\n",
       "\n"
      ],
      "text/plain": [
       "  Country   ARIMA(log(GDP) ~ Population)\n",
       "1 Australia <LM w/ ARIMA(2,0,0) errors> "
      ]
     },
     "metadata": {},
     "output_type": "display_data"
    }
   ],
   "source": [
    "# Manual ARIMA specification\n",
    "USAccDeaths %>%\n",
    "  as_tsibble() %>%\n",
    "  model(arima = ARIMA(log(value) ~ 0 + pdq(0, 1, 1) + PDQ(0, 1, 1))) %>%\n",
    "  report()\n",
    "#> Series: value \n",
    "#> Model: ARIMA(0,1,1)(0,1,1)[12] \n",
    "#> Transformation: log(value) \n",
    "#> \n",
    "#> Coefficients:\n",
    "#>           ma1     sma1\n",
    "#>       -0.4713  -0.5926\n",
    "#> s.e.   0.1230   0.1933\n",
    "#> \n",
    "#> sigma^2 estimated as 0.001379:  log likelihood=109.31\n",
    "#> AIC=-212.63   AICc=-212.19   BIC=-206.39\n",
    "\n",
    "# Automatic ARIMA specification\n",
    "library(tsibble)\n",
    "#> \n",
    "#> Attaching package: ‘tsibble’\n",
    "#> The following objects are masked from ‘package:base’:\n",
    "#> \n",
    "#>     intersect, setdiff, union\n",
    "library(dplyr)\n",
    "#> \n",
    "#> Attaching package: ‘dplyr’\n",
    "#> The following objects are masked from ‘package:stats’:\n",
    "#> \n",
    "#>     filter, lag\n",
    "#> The following objects are masked from ‘package:base’:\n",
    "#> \n",
    "#>     intersect, setdiff, setequal, union\n",
    "tsibbledata::global_economy %>%\n",
    "  filter(Country == \"Australia\") %>%\n",
    "  model(ARIMA(log(GDP) ~ Population))\n",
    "#> Warning: NaNs produced\n",
    "#> # A mable: 1 x 2\n",
    "#> # Key:     Country [1]\n",
    "#>   Country   `ARIMA(log(GDP) ~ Population)`\n",
    "#>   <fct>                            <model>\n",
    "#> 1 Australia    <LM w/ ARIMA(2,0,0) errors>"
   ]
  },
  {
   "cell_type": "code",
   "execution_count": null,
   "id": "184b9626-2e83-4dc8-baed-dac8486ddf14",
   "metadata": {},
   "outputs": [],
   "source": []
  },
  {
   "cell_type": "code",
   "execution_count": null,
   "id": "f44fd465-0614-467d-abc9-0f2136903124",
   "metadata": {},
   "outputs": [],
   "source": []
  }
 ],
 "metadata": {
  "kernelspec": {
   "display_name": "R",
   "language": "R",
   "name": "ir"
  },
  "language_info": {
   "codemirror_mode": "r",
   "file_extension": ".r",
   "mimetype": "text/x-r-source",
   "name": "R",
   "pygments_lexer": "r",
   "version": "4.1.1"
  }
 },
 "nbformat": 4,
 "nbformat_minor": 5
}
