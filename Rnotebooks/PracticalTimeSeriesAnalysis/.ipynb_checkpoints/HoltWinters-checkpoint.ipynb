{
 "cells": [
  {
   "cell_type": "code",
   "execution_count": 1,
   "id": "3443d6f2-1474-42d8-85b7-ee8e98d0fe46",
   "metadata": {},
   "outputs": [
    {
     "data": {
      "text/html": [
       "17704.7471"
      ],
      "text/latex": [
       "17704.7471"
      ],
      "text/markdown": [
       "17704.7471"
      ],
      "text/plain": [
       "[1] 17704.75"
      ]
     },
     "metadata": {},
     "output_type": "display_data"
    }
   ],
   "source": [
    "17661.5000+43.2471"
   ]
  },
  {
   "cell_type": "code",
   "execution_count": 2,
   "id": "898de14b-3e0a-4d59-b474-b3ee3fc75bf4",
   "metadata": {},
   "outputs": [
    {
     "data": {
      "text/html": [
       "210000"
      ],
      "text/latex": [
       "210000"
      ],
      "text/markdown": [
       "210000"
      ],
      "text/plain": [
       "[1] 210000"
      ]
     },
     "metadata": {},
     "output_type": "display_data"
    }
   ],
   "source": [
    "5*21*5*400"
   ]
  },
  {
   "cell_type": "code",
   "execution_count": 3,
   "id": "cbd054e7-355f-46be-acfb-d87e775edaae",
   "metadata": {},
   "outputs": [
    {
     "data": {
      "text/html": [
       "554320"
      ],
      "text/latex": [
       "554320"
      ],
      "text/markdown": [
       "554320"
      ],
      "text/plain": [
       "[1] 554320"
      ]
     },
     "metadata": {},
     "output_type": "display_data"
    }
   ],
   "source": [
    "26*20*2*533"
   ]
  },
  {
   "cell_type": "code",
   "execution_count": null,
   "id": "73bb6239-c37e-4594-961e-7123090c4589",
   "metadata": {},
   "outputs": [],
   "source": []
  }
 ],
 "metadata": {
  "kernelspec": {
   "display_name": "R",
   "language": "R",
   "name": "ir"
  },
  "language_info": {
   "codemirror_mode": "r",
   "file_extension": ".r",
   "mimetype": "text/x-r-source",
   "name": "R",
   "pygments_lexer": "r",
   "version": "4.1.1"
  }
 },
 "nbformat": 4,
 "nbformat_minor": 5
}
