{
 "cells": [
  {
   "cell_type": "code",
   "execution_count": 1,
   "id": "e74599fb-6cdf-45ca-a89b-4fc78aa8b9de",
   "metadata": {},
   "outputs": [
    {
     "name": "stderr",
     "output_type": "stream",
     "text": [
      "Downloading GitHub repo FinYang/tsdl@HEAD\n",
      "\n"
     ]
    },
    {
     "name": "stdout",
     "output_type": "stream",
     "text": [
      "\u001b[32m✔\u001b[39m  \u001b[90mchecking for file ‘/tmp/RtmpYs42Pc/remotes151437714c96/FinYang-tsdl-56e0915/DESCRIPTION’\u001b[39m\u001b[36m\u001b[36m (436ms)\u001b[36m\u001b[39m\n",
      "\u001b[90m─\u001b[39m\u001b[90m  \u001b[39m\u001b[90mpreparing ‘tsdl’:\u001b[39m\u001b[36m\u001b[39m\n",
      "\u001b[32m✔\u001b[39m  \u001b[90mchecking DESCRIPTION meta-information\u001b[39m\u001b[36m\u001b[39m\n",
      "\u001b[90m─\u001b[39m\u001b[90m  \u001b[39m\u001b[90mchecking for LF line-endings in source and make files and shell scripts\u001b[39m\u001b[36m\u001b[39m\n",
      "\u001b[90m─\u001b[39m\u001b[90m  \u001b[39m\u001b[90mchecking for empty or unneeded directories\u001b[39m\u001b[36m\u001b[39m\n",
      "\u001b[90m─\u001b[39m\u001b[90m  \u001b[39m\u001b[90mbuilding ‘tsdl_0.1.0.tar.gz’\u001b[39m\u001b[36m\u001b[39m\n",
      "   \n",
      "\r"
     ]
    }
   ],
   "source": [
    "# install.packages(\"devtools\")\n",
    "devtools::install_github(\"FinYang/tsdl\")"
   ]
  },
  {
   "cell_type": "code",
   "execution_count": 2,
   "id": "5444e1c5-46fa-4cc5-8414-cbd9dea79dc0",
   "metadata": {},
   "outputs": [],
   "source": [
    "library(tsdl)"
   ]
  },
  {
   "cell_type": "markdown",
   "id": "a3bdfa18-4084-4b6a-8ccd-2d6060803646",
   "metadata": {},
   "source": [
    "https://github.com/FinYang/tsdl"
   ]
  },
  {
   "cell_type": "code",
   "execution_count": null,
   "id": "854340a1-1658-423c-91fa-320af82639b1",
   "metadata": {},
   "outputs": [],
   "source": []
  }
 ],
 "metadata": {
  "kernelspec": {
   "display_name": "R",
   "language": "R",
   "name": "ir"
  },
  "language_info": {
   "codemirror_mode": "r",
   "file_extension": ".r",
   "mimetype": "text/x-r-source",
   "name": "R",
   "pygments_lexer": "r",
   "version": "4.1.1"
  }
 },
 "nbformat": 4,
 "nbformat_minor": 5
}
