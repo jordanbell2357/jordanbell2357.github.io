{
 "cells": [
  {
   "cell_type": "code",
   "execution_count": 1,
   "metadata": {},
   "outputs": [
    {
     "data": {
      "application/vnd.jupyter.widget-view+json": {
       "model_id": "4e902028d09e495e97b3f63736a55535",
       "version_major": 2,
       "version_minor": 0
      },
      "text/plain": [
       "Interactive function <function _ at 0x6fff68776950> with 1 widget\n",
       "  order: SelectionSlider(description='order'…"
      ]
     },
     "metadata": {},
     "output_type": "display_data"
    }
   ],
   "source": [
    "x   = SR.var('x')\n",
    "x0  = 0\n",
    "f   = sin(x) * e^(-x)\n",
    "p   = plot(f, -1, 5, thickness=2)\n",
    "dot = point((x0, f(x=x0)), pointsize=80, rgbcolor=(1, 0, 0))\n",
    "\n",
    "@interact\n",
    "def _(order=slider([1 .. 12])):\n",
    "  ft = f.taylor(x, x0, order)\n",
    "  pt = plot(ft, -1, 5, color='green', thickness=2)\n",
    "  pretty_print(html(r'$f(x)\\;=\\;%s$' % latex(f)))\n",
    "  pretty_print(html(r'$\\hat{f}(x;%s)\\;=\\;%s+\\mathcal{O}(x^{%s})$' % (x0, latex(ft), order+1)))\n",
    "  show(dot + p + pt, ymin=-.5, ymax=1)"
   ]
  },
  {
   "cell_type": "code",
   "execution_count": null,
   "metadata": {},
   "outputs": [],
   "source": []
  }
 ],
 "metadata": {
  "kernelspec": {
   "display_name": "SageMath 9.3",
   "language": "sage",
   "name": "sagemath"
  },
  "language_info": {
   "codemirror_mode": {
    "name": "ipython",
    "version": 3
   },
   "file_extension": ".py",
   "mimetype": "text/x-python",
   "name": "python",
   "nbconvert_exporter": "python",
   "pygments_lexer": "ipython3",
   "version": "3.7.10"
  }
 },
 "nbformat": 4,
 "nbformat_minor": 4
}
